{
 "cells": [
  {
   "cell_type": "code",
   "execution_count": 4,
   "id": "agreed-excuse",
   "metadata": {},
   "outputs": [],
   "source": [
    "import math\n",
    "import numpy as np\n",
    "import matplotlib.pyplot as plt\n",
    "from tqdm import tqdm_notebook"
   ]
  },
  {
   "cell_type": "code",
   "execution_count": 12,
   "id": "higher-update",
   "metadata": {},
   "outputs": [],
   "source": [
    "def read_data(file, m):\n",
    "    n = int(file.readline().strip())\n",
    "    X = np.zeros((n, m + 1))\n",
    "    y = np.zeros(n)\n",
    "    for i in range(n):\n",
    "        row = list(map(float, file.readline().strip().split()))\n",
    "        for j in range(m):\n",
    "            X[i, j] = row[j]\n",
    "        X[i, m] = 1\n",
    "        y[i] = row[m]\n",
    "    return X, y\n",
    "\n",
    "\n",
    "def read_dataset(file):\n",
    "    m = int(file.readline().strip()) # |x[i]|\n",
    "    X_train, y_train = read_data(file, m)\n",
    "    X_test, y_test = read_data(file, m)\n",
    "    return X_train, y_train, X_test, y_test"
   ]
  },
  {
   "cell_type": "code",
   "execution_count": 13,
   "id": "collectible-partition",
   "metadata": {},
   "outputs": [],
   "source": [
    "def calc_NRMSE(model, X_test, y_test):\n",
    "    n, *_ = X_test.shape\n",
    "    y_max = np.max(y_test)\n",
    "    y_min = np.min(y_test)\n",
    "    diffs = (model @ np.transpose(X_test)) - y_test\n",
    "    return math.sqrt(np.dot(diffs, diffs) / n) / (y_max - y_min)"
   ]
  },
  {
   "cell_type": "code",
   "execution_count": 184,
   "id": "joint-shannon",
   "metadata": {},
   "outputs": [],
   "source": [
    "def get_svd_model(X_train, y_train, tau=0):\n",
    "    n, m = X_train.shape\n",
    "    F = X_train\n",
    "    F_t = np.transpose(F)\n",
    "    to_inv = (F_t @ F) + tau * np.eye(m)\n",
    "    theta = np.linalg.pinv(to_inv) @ F_t @ y_train\n",
    "\n",
    "#     theta = np.linalg.pinv(F) @ y_train\n",
    "    return theta.T"
   ]
  },
  {
   "cell_type": "code",
   "execution_count": 120,
   "id": "minor-cartoon",
   "metadata": {},
   "outputs": [],
   "source": [
    "def calc_step(w, dots, tau):\n",
    "    X = np.array(list(map(lambda e: e[0], dots)))\n",
    "    y = np.array(list(map(lambda e: e[1], dots)))\n",
    "    n, *_ = dots.shape\n",
    "    m, *_ = w.shape\n",
    "    diffs = y - np.transpose(X @ w.T)\n",
    "    grad = (-2 * diffs) @ X     \n",
    "    scalar_products = np.transpose(X @ grad.T)\n",
    "    b = np.sum(np.square(scalar_products))\n",
    "    if b == 0:\n",
    "        mu = 0\n",
    "    else:\n",
    "        a = np.dot(diffs, scalar_products)\n",
    "        mu = -a / b\n",
    "    return grad * mu\n",
    "\n",
    "\n",
    "def get_start_w(n, m):\n",
    "    w = np.random.rand(m) # [0, 1)\n",
    "    w = (w - np.ones(m) / 2) * 2 # [-1, 1]\n",
    "    return w * (1 / (2 * n)) # [-1/2n, 1/2n]\n",
    "    \n",
    "\n",
    "def get_gradient_model(X_train, y_train, tau):\n",
    "    iters_cnt = 2000\n",
    "    n, m = X_train.shape\n",
    "    batch_size = min(20, n)\n",
    "    start_ind = 0\n",
    "    dots = np.array(list(zip(X_train, y_train)))\n",
    "    np.random.shuffle(dots)\n",
    "    w = get_start_w(n, m)\n",
    "    step_index = 0\n",
    "    for _ in tqdm_notebook(range(iters_cnt)):\n",
    "        if start_ind >= n:\n",
    "            np.random.shuffle(dots)\n",
    "            start_ind = 0\n",
    "        end_ind = min(n, start_ind + batch_size)\n",
    "        step = calc_step(w, dots[start_ind:end_ind], tau)\n",
    "        step_size = 1 / (step_index)\n",
    "        w = w * (1 - step_size * tau) - step_size * step\n",
    "        start_ind = end_ind\n",
    "        step_index += 1\n",
    "    return w"
   ]
  },
  {
   "cell_type": "code",
   "execution_count": 43,
   "id": "behind-despite",
   "metadata": {},
   "outputs": [],
   "source": [
    "def process_dataset(X_train, y_train, X_test, y_test, solver, solver_param):\n",
    "    model = solver(X_train, y_train, solver_param)\n",
    "    return calc_NRMSE(model, X_test, y_test)"
   ]
  },
  {
   "cell_type": "code",
   "execution_count": 164,
   "id": "minus-advance",
   "metadata": {},
   "outputs": [],
   "source": [
    "def process_file(file_index):\n",
    "    tau = [k for k in range(1, 8)]\n",
    "    print('Processing file #{0}...'.format(file_index))\n",
    "    with open('data/{0}.txt'.format(file_index), 'r') as file:\n",
    "        X_train, y_train, X_test, y_test = read_dataset(file)\n",
    "        zero_error = process_dataset(X_train, y_train, X_test, y_test, get_gradient_model, 0)\n",
    "        method_error = []\n",
    "        for t in tau:\n",
    "            cur_error = process_dataset(X_train, y_train, X_test, y_test, get_gradient_model, t)\n",
    "            method_error.append(cur_error)\n",
    "        plt.loglog(tau, method_error, linestyle='--', marker='o', color='b')\n",
    "        plt.hlines(zero_error, tau[0], tau[-1])\n",
    "        plt.show()"
   ]
  },
  {
   "cell_type": "code",
   "execution_count": 165,
   "id": "practical-institute",
   "metadata": {},
   "outputs": [
    {
     "name": "stdout",
     "output_type": "stream",
     "text": [
      "Processing file #1...\n"
     ]
    },
    {
     "name": "stderr",
     "output_type": "stream",
     "text": [
      "<ipython-input-120-8bf432ec8b1e>:29: VisibleDeprecationWarning: Creating an ndarray from ragged nested sequences (which is a list-or-tuple of lists-or-tuples-or ndarrays with different lengths or shapes) is deprecated. If you meant to do this, you must specify 'dtype=object' when creating the ndarray.\n",
      "  dots = np.array(list(zip(X_train, y_train)))\n",
      "<ipython-input-120-8bf432ec8b1e>:32: TqdmDeprecationWarning: This function will be removed in tqdm==5.0.0\n",
      "Please use `tqdm.notebook.tqdm` instead of `tqdm.tqdm_notebook`\n",
      "  for _ in tqdm_notebook(range(iters_cnt)):\n"
     ]
    },
    {
     "data": {
      "application/vnd.jupyter.widget-view+json": {
       "model_id": "ce9a2868a33141ee87f2b059cff4d726",
       "version_major": 2,
       "version_minor": 0
      },
      "text/plain": [
       "  0%|          | 0/2000 [00:00<?, ?it/s]"
      ]
     },
     "metadata": {},
     "output_type": "display_data"
    },
    {
     "data": {
      "application/vnd.jupyter.widget-view+json": {
       "model_id": "c1091a04650a4e25a395c71974d99be2",
       "version_major": 2,
       "version_minor": 0
      },
      "text/plain": [
       "  0%|          | 0/2000 [00:00<?, ?it/s]"
      ]
     },
     "metadata": {},
     "output_type": "display_data"
    },
    {
     "data": {
      "application/vnd.jupyter.widget-view+json": {
       "model_id": "1b57a7a1cee14dde86afa669e76a9df8",
       "version_major": 2,
       "version_minor": 0
      },
      "text/plain": [
       "  0%|          | 0/2000 [00:00<?, ?it/s]"
      ]
     },
     "metadata": {},
     "output_type": "display_data"
    },
    {
     "data": {
      "application/vnd.jupyter.widget-view+json": {
       "model_id": "71e7b2eae6304979a35ab53f9b010a9a",
       "version_major": 2,
       "version_minor": 0
      },
      "text/plain": [
       "  0%|          | 0/2000 [00:00<?, ?it/s]"
      ]
     },
     "metadata": {},
     "output_type": "display_data"
    },
    {
     "data": {
      "application/vnd.jupyter.widget-view+json": {
       "model_id": "07552d0f1a3b43fb97137efc3e31be15",
       "version_major": 2,
       "version_minor": 0
      },
      "text/plain": [
       "  0%|          | 0/2000 [00:00<?, ?it/s]"
      ]
     },
     "metadata": {},
     "output_type": "display_data"
    },
    {
     "data": {
      "application/vnd.jupyter.widget-view+json": {
       "model_id": "ca8aefaa57724d59a83fe9c41514ed67",
       "version_major": 2,
       "version_minor": 0
      },
      "text/plain": [
       "  0%|          | 0/2000 [00:00<?, ?it/s]"
      ]
     },
     "metadata": {},
     "output_type": "display_data"
    },
    {
     "data": {
      "application/vnd.jupyter.widget-view+json": {
       "model_id": "c18813ec13e8449bbaf5e1970b2ac91b",
       "version_major": 2,
       "version_minor": 0
      },
      "text/plain": [
       "  0%|          | 0/2000 [00:00<?, ?it/s]"
      ]
     },
     "metadata": {},
     "output_type": "display_data"
    },
    {
     "data": {
      "application/vnd.jupyter.widget-view+json": {
       "model_id": "0f4d3ebc942b4d3b9d435d11743fc18a",
       "version_major": 2,
       "version_minor": 0
      },
      "text/plain": [
       "  0%|          | 0/2000 [00:00<?, ?it/s]"
      ]
     },
     "metadata": {},
     "output_type": "display_data"
    },
    {
     "data": {
      "image/png": "[encoded data removed]",
      "text/plain": [
       "<Figure size 432x288 with 1 Axes>"
      ]
     },
     "metadata": {
      "needs_background": "light"
     },
     "output_type": "display_data"
    }
   ],
   "source": [
    "process_file(1)"
   ]
  },
  {
   "cell_type": "code",
   "execution_count": 187,
   "id": "pleased-brisbane",
   "metadata": {},
   "outputs": [],
   "source": [
    "def process_file_2(file_index):\n",
    "    tau = [k for k in range(1, 10)]\n",
    "    print('Processing file #{0}...'.format(file_index))\n",
    "    with open('data/{0}.txt'.format(file_index), 'r') as file:\n",
    "        X_train, y_train, X_test, y_test = read_dataset(file)\n",
    "        zero_error = process_dataset(X_train, y_train, X_test, y_test, get_svd_model, 0)\n",
    "        method_error = []\n",
    "        for t in tau:\n",
    "            cur_error = process_dataset(X_train, y_train, X_test, y_test, get_svd_model, t)\n",
    "            method_error.append(cur_error)\n",
    "        plt.plot(tau, method_error, linestyle='--', marker='o', color='b')\n",
    "        plt.hlines(zero_error, tau[0], tau[-1])\n",
    "        plt.show()"
   ]
  },
  {
   "cell_type": "code",
   "execution_count": 188,
   "id": "special-salon",
   "metadata": {},
   "outputs": [
    {
     "name": "stdout",
     "output_type": "stream",
     "text": [
      "Processing file #1...\n"
     ]
    },
    {
     "data": {
      "image/png": "[encoded data removed]",
      "text/plain": [
       "<Figure size 432x288 with 1 Axes>"
      ]
     },
     "metadata": {
      "needs_background": "light"
     },
     "output_type": "display_data"
    }
   ],
   "source": [
    "process_file_2(1)"
   ]
  },
  {
   "cell_type": "code",
   "execution_count": null,
   "id": "scheduled-wichita",
   "metadata": {},
   "outputs": [],
   "source": []
  }
 ],
 "metadata": {
  "kernelspec": {
   "display_name": "Python 3",
   "language": "python",
   "name": "python3"
  },
  "language_info": {
   "codemirror_mode": {
    "name": "ipython",
    "version": 3
   },
   "file_extension": ".py",
   "mimetype": "text/x-python",
   "name": "python",
   "nbconvert_exporter": "python",
   "pygments_lexer": "ipython3",
   "version": "3.8.6"
  }
 },
 "nbformat": 4,
 "nbformat_minor": 5
}
