{
 "cells": [
  {
   "cell_type": "code",
   "execution_count": null,
   "id": "coastal-calibration",
   "metadata": {},
   "outputs": [],
   "source": [
    "import math\n",
    "import numpy as np\n",
    "import matplotlib.pyplot as plt\n",
    "from tqdm import tqdm_notebook"
   ]
  },
  {
   "cell_type": "code",
   "execution_count": 2,
   "id": "italic-money",
   "metadata": {},
   "outputs": [],
   "source": [
    "def read_data(file, m):\n",
    "    n = int(file.readline().strip())\n",
    "    X = np.zeros((n, m + 1))\n",
    "    y = np.zeros(n)\n",
    "    for i in range(n):\n",
    "        row = list(map(float, file.readline().strip().split()))\n",
    "        for j in range(m):\n",
    "            X[i, j] = row[j]\n",
    "        X[i, m] = 1\n",
    "        y[i] = line[m]\n",
    "    return X, y\n",
    "\n",
    "\n",
    "def read_dataset(file):\n",
    "    m = int(file.readline().strip()) # |x[i]|\n",
    "    X_train, y_train = read_data(file, m)\n",
    "    X_test, y_test = read_data(file, m)\n",
    "    return X_train, y_train, X_test, y_test\n",
    "\n"
   ]
  },
  {
   "cell_type": "code",
   "execution_count": null,
   "id": "patent-benefit",
   "metadata": {},
   "outputs": [],
   "source": []
  },
  {
   "cell_type": "code",
   "execution_count": null,
   "id": "welcome-petroleum",
   "metadata": {},
   "outputs": [],
   "source": []
  },
  {
   "cell_type": "code",
   "execution_count": null,
   "id": "stretch-polyester",
   "metadata": {},
   "outputs": [],
   "source": []
  },
  {
   "cell_type": "code",
   "execution_count": null,
   "id": "polish-kitchen",
   "metadata": {},
   "outputs": [],
   "source": []
  }
 ],
 "metadata": {
  "kernelspec": {
   "display_name": "Python 3",
   "language": "python",
   "name": "python3"
  },
  "language_info": {
   "codemirror_mode": {
    "name": "ipython",
    "version": 3
   },
   "file_extension": ".py",
   "mimetype": "text/x-python",
   "name": "python",
   "nbconvert_exporter": "python",
   "pygments_lexer": "ipython3",
   "version": "3.9.1"
  }
 },
 "nbformat": 4,
 "nbformat_minor": 5
}
