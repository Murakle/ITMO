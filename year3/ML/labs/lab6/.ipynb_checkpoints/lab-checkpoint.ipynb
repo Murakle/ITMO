{
 "cells": [
  {
   "cell_type": "code",
   "execution_count": 10,
   "id": "handled-amino",
   "metadata": {},
   "outputs": [
    {
     "name": "stdout",
     "output_type": "stream",
     "text": [
      "3.8.6 (v3.8.6:db455296be, Sep 23 2020, 13:31:39) \n",
      "[Clang 6.0 (clang-600.0.57)]\n"
     ]
    }
   ],
   "source": [
    "import sys\n",
    "print(sys.version)\n",
    "import tensorflow as tf\n",
    "import numpy as np\n",
    "from mnist import MNIST\n",
    "from matplotlib import pyplot as plt"
   ]
  },
  {
   "cell_type": "code",
   "execution_count": 36,
   "id": "formal-collection",
   "metadata": {},
   "outputs": [],
   "source": [
    "def LeNet5_model():\n",
    "    model = tf.keras.models.Sequential() \n",
    "    model.add(tf.keras.layers.Conv2D(8, 5, input_shape=(28, 28, 1), padding='same', activation='relu'))\n",
    "    model.add(tf.keras.layers.MaxPooling2D(pool_size=(2, 2), strides=(2, 2)))  \n",
    "    model.add(tf.keras.layers.Conv2D(16, 3, activation='relu'))\n",
    "    model.add(tf.keras.layers.MaxPooling2D(pool_size=(2, 2), strides=(2, 2)))  \n",
    "    model.add(tf.keras.layers.Flatten())\n",
    "    model.add(tf.keras.layers.Dense(120, activation='relu'))\n",
    "    model.add(tf.keras.layers.Dense(64, activation='relu'))\n",
    "    model.add(tf.keras.layers.Dense(10, activation='softmax'))# енто совт-арг-макс а не совт-макс, кажется\n",
    "    return model"
   ]
  },
  {
   "cell_type": "code",
   "execution_count": 33,
   "id": "genetic-starter",
   "metadata": {},
   "outputs": [],
   "source": [
    "def CPCP_model():\n",
    "    model = tf.keras.models.Sequential() \n",
    "    model.add(tf.keras.layers.Conv2D(32, 3, input_shape=(28, 28, 1), activation='relu'))  \n",
    "    model.add(tf.keras.layers.MaxPooling2D(pool_size=(2, 2), strides=(2, 2)))\n",
    "    model.add(tf.keras.layers.Conv2D(64, 3, activation='relu'))\n",
    "    model.add(tf.keras.layers.MaxPooling2D(pool_size=(2, 2), strides=(2, 2)))\n",
    "    model.add(tf.keras.layers.Conv2D(128, 3, activation='relu'))\n",
    "    model.add(tf.keras.layers.MaxPooling2D(pool_size=(2, 2), strides=(2, 2)))\n",
    "    model.add(tf.keras.layers.Flatten())\n",
    "    model.add(tf.keras.layers.Dense(64, activation='relu'))\n",
    "    model.add(tf.keras.layers.Dense(10, activation='softmax'))# енто совт-арг-макс а не совт-макс, кажется\n",
    "    return model"
   ]
  },
  {
   "cell_type": "code",
   "execution_count": 50,
   "id": "fixed-bleeding",
   "metadata": {},
   "outputs": [],
   "source": [
    "def vgg_model(dropout=0.2):\n",
    "    model = tf.keras.models.Sequential() \n",
    "    model.add(tf.keras.layers.Conv2D(16, 3, input_shape=(28, 28, 1), padding='same', activation='relu'))  \n",
    "    model.add(tf.keras.layers.Conv2D(16, 3, padding='same', activation='relu'))  \n",
    "    model.add(tf.keras.layers.MaxPooling2D(pool_size=(2, 2), strides=(2, 2)))\n",
    "    model.add(tf.keras.layers.Dropout(dropout))\n",
    "    model.add(tf.keras.layers.Conv2D(32, 3, activation='relu'))\n",
    "    model.add(tf.keras.layers.Conv2D(32, 3, activation='relu'))\n",
    "    model.add(tf.keras.layers.MaxPooling2D(pool_size=(2, 2), strides=(2, 2)))\n",
    "    model.add(tf.keras.layers.Dropout(dropout))\n",
    "    model.add(tf.keras.layers.Flatten())\n",
    "    model.add(tf.keras.layers.Dense(512, activation='relu'))\n",
    "    model.add(tf.keras.layers.Dense(10, activation='softmax'))# енто совт-арг-макс а не совт-макс, кажется\n",
    "    return model"
   ]
  },
  {
   "cell_type": "code",
   "execution_count": 70,
   "id": "veterinary-convertible",
   "metadata": {},
   "outputs": [],
   "source": [
    "def read_data(path):\n",
    "    mnist_data = MNIST(path)\n",
    "    mnist_train_images, mnist_train_labels = mnist_data.load_training()\n",
    "    mnist_test_images, mnist_test_labels = mnist_data.load_testing()\n",
    "    x_train = np.array(mnist_train_images)\n",
    "    y_train = np.array(mnist_train_labels)\n",
    "    x_test = np.array(mnist_test_images)\n",
    "    y_test = np.array(mnist_test_labels)\n",
    "    x_train, x_test = x_train / 255.0, x_test / 255.0\n",
    "    x_train = tf.reshape(x_train, [60000, 28, 28, 1])\n",
    "    x_test = tf.reshape(x_test, [10000, 28, 28, 1])\n",
    "    return x_train, y_train, x_test, y_test"
   ]
  },
  {
   "cell_type": "code",
   "execution_count": 23,
   "id": "filled-advertising",
   "metadata": {},
   "outputs": [],
   "source": [
    "# preapare data\n",
    "x_train, y_train, x_test, y_test = read_data('./data/mnist')"
   ]
  },
  {
   "cell_type": "code",
   "execution_count": 73,
   "id": "cardiovascular-segment",
   "metadata": {},
   "outputs": [],
   "source": [
    "loss_fn = tf.keras.losses.SparseCategoricalCrossentropy(from_logits=True)\n",
    "acc = []"
   ]
  },
  {
   "cell_type": "code",
   "execution_count": 74,
   "id": "varying-vacuum",
   "metadata": {},
   "outputs": [
    {
     "name": "stdout",
     "output_type": "stream",
     "text": [
      "Epoch 1/5\n",
      "1875/1875 [==============================] - 35s 18ms/step - loss: 0.7110 - accuracy: 0.7378\n",
      "Epoch 2/5\n",
      "1875/1875 [==============================] - 32s 17ms/step - loss: 0.3570 - accuracy: 0.8701\n",
      "Epoch 3/5\n",
      "1875/1875 [==============================] - 33s 17ms/step - loss: 0.3002 - accuracy: 0.8900\n",
      "Epoch 4/5\n",
      "1875/1875 [==============================] - 31s 17ms/step - loss: 0.2673 - accuracy: 0.9004\n",
      "Epoch 5/5\n",
      "1875/1875 [==============================] - 30s 16ms/step - loss: 0.2409 - accuracy: 0.9099\n",
      "LeNet5 0.30308395624160767 0.8937000036239624\n"
     ]
    }
   ],
   "source": [
    "# Lenet5\n",
    "model = LeNet5_model()\n",
    "model.compile(optimizer='adam',\n",
    "              loss=loss_fn,\n",
    "              metrics=['accuracy'])\n",
    "model.fit(x_train, y_train, epochs=5, verbose=1)\n",
    "error, accuracy = model.evaluate(x_test, y_test, verbose=0)\n",
    "print(\"LeNet5\", error, accuracy)\n",
    "acc.append(accuracy)"
   ]
  },
  {
   "cell_type": "code",
   "execution_count": 75,
   "id": "numerous-dietary",
   "metadata": {},
   "outputs": [
    {
     "name": "stdout",
     "output_type": "stream",
     "text": [
      "Epoch 1/5\n",
      "1875/1875 [==============================] - 60s 32ms/step - loss: 0.7890 - accuracy: 0.7164\n",
      "Epoch 2/5\n",
      "1875/1875 [==============================] - 57s 30ms/step - loss: 0.4012 - accuracy: 0.8521\n",
      "Epoch 3/5\n",
      "1875/1875 [==============================] - 55s 29ms/step - loss: 0.3335 - accuracy: 0.8782\n",
      "Epoch 4/5\n",
      "1875/1875 [==============================] - 48s 26ms/step - loss: 0.2958 - accuracy: 0.8898\n",
      "Epoch 5/5\n",
      "1875/1875 [==============================] - 42s 23ms/step - loss: 0.2715 - accuracy: 0.8991\n",
      "CPCP 0.33622556924819946 0.8733999729156494\n"
     ]
    }
   ],
   "source": [
    "model = CPCP_model()\n",
    "model.compile(optimizer='adam',\n",
    "              loss=loss_fn,\n",
    "              metrics=['accuracy'])\n",
    "model.fit(x_train, y_train, epochs=5, verbose=1)\n",
    "error, accuracy = model.evaluate(x_test, y_test, verbose=0)\n",
    "print(\"CPCP\", error, accuracy)\n",
    "acc.append(accuracy)"
   ]
  },
  {
   "cell_type": "code",
   "execution_count": 76,
   "id": "brazilian-sunrise",
   "metadata": {},
   "outputs": [
    {
     "name": "stdout",
     "output_type": "stream",
     "text": [
      "Epoch 1/5\n",
      "1875/1875 [==============================] - 78s 41ms/step - loss: 0.6010 - accuracy: 0.7794\n",
      "Epoch 2/5\n",
      "1875/1875 [==============================] - 92s 49ms/step - loss: 0.2785 - accuracy: 0.8981\n",
      "Epoch 3/5\n",
      "1875/1875 [==============================] - 89s 47ms/step - loss: 0.2254 - accuracy: 0.9166\n",
      "Epoch 4/5\n",
      "1875/1875 [==============================] - 88s 47ms/step - loss: 0.1941 - accuracy: 0.9270\n",
      "Epoch 5/5\n",
      "1875/1875 [==============================] - 95s 51ms/step - loss: 0.1584 - accuracy: 0.9402\n",
      "vgg 0.2436552494764328 0.911899983882904\n"
     ]
    }
   ],
   "source": [
    "model = vgg_model(0)\n",
    "model.compile(optimizer='adam',\n",
    "              loss=loss_fn,\n",
    "              metrics=['accuracy'])\n",
    "model.fit(x_train, y_train, epochs=5, verbose=1)\n",
    "error, accuracy = model.evaluate(x_test, y_test, verbose=0)\n",
    "print(\"vgg\", error, accuracy)\n",
    "acc.append(accuracy)"
   ]
  },
  {
   "cell_type": "code",
   "execution_count": 80,
   "id": "recovered-restaurant",
   "metadata": {},
   "outputs": [
    {
     "data": {
      "image/png": "[encoded data removed]",
      "text/plain": [
       "<Figure size 432x288 with 1 Axes>"
      ]
     },
     "metadata": {
      "needs_background": "light"
     },
     "output_type": "display_data"
    }
   ],
   "source": [
    "x = ['LeNet5', 'CPCP', 'VGG']\n",
    "plt.bar(x, acc)\n",
    "plt.ylim([0.85,0.95])\n",
    "plt.show()"
   ]
  },
  {
   "cell_type": "code",
   "execution_count": 82,
   "id": "recovered-teens",
   "metadata": {},
   "outputs": [
    {
     "name": "stdout",
     "output_type": "stream",
     "text": [
      "Epoch 1/5\n",
      "1875/1875 [==============================] - 85s 45ms/step - loss: 0.5850 - accuracy: 0.7875\n",
      "Epoch 2/5\n",
      "1875/1875 [==============================] - 74s 39ms/step - loss: 0.2701 - accuracy: 0.8989\n",
      "Epoch 3/5\n",
      "1875/1875 [==============================] - 76s 40ms/step - loss: 0.2207 - accuracy: 0.9196\n",
      "Epoch 4/5\n",
      "1875/1875 [==============================] - 71s 38ms/step - loss: 0.1822 - accuracy: 0.9312\n",
      "Epoch 5/5\n",
      "1875/1875 [==============================] - 72s 39ms/step - loss: 0.1558 - accuracy: 0.9413\n",
      "vgg 0.0 0.22581100463867188 0.9204999804496765\n",
      "Epoch 1/5\n",
      "1875/1875 [==============================] - 72s 38ms/step - loss: 0.6247 - accuracy: 0.7737\n",
      "Epoch 2/5\n",
      "1875/1875 [==============================] - 66s 35ms/step - loss: 0.2945 - accuracy: 0.8914\n",
      "Epoch 3/5\n",
      "1875/1875 [==============================] - 1113s 594ms/step - loss: 0.2390 - accuracy: 0.9128\n",
      "Epoch 4/5\n",
      "1875/1875 [==============================] - 87s 46ms/step - loss: 0.2127 - accuracy: 0.9204\n",
      "Epoch 5/5\n",
      "1875/1875 [==============================] - 83s 44ms/step - loss: 0.1890 - accuracy: 0.9286\n",
      "vgg 0.1 0.22047285735607147 0.9200000166893005\n",
      "Epoch 1/5\n",
      "1875/1875 [==============================] - 79s 42ms/step - loss: 0.6289 - accuracy: 0.7694\n",
      "Epoch 2/5\n",
      "1875/1875 [==============================] - 97s 52ms/step - loss: 0.3038 - accuracy: 0.8869\n",
      "Epoch 3/5\n",
      "1875/1875 [==============================] - 83s 44ms/step - loss: 0.2531 - accuracy: 0.9063\n",
      "Epoch 4/5\n",
      "1875/1875 [==============================] - 93s 50ms/step - loss: 0.2270 - accuracy: 0.9136\n",
      "Epoch 5/5\n",
      "1875/1875 [==============================] - 91s 49ms/step - loss: 0.2081 - accuracy: 0.9219\n",
      "vgg 0.2 0.22496816515922546 0.917900025844574\n",
      "Epoch 1/5\n",
      "1875/1875 [==============================] - 85s 45ms/step - loss: 0.6945 - accuracy: 0.7407\n",
      "Epoch 2/5\n",
      "1875/1875 [==============================] - 119s 64ms/step - loss: 0.3392 - accuracy: 0.8737\n",
      "Epoch 3/5\n",
      "1875/1875 [==============================] - 115s 61ms/step - loss: 0.2756 - accuracy: 0.8978\n",
      "Epoch 4/5\n",
      "1875/1875 [==============================] - 111s 59ms/step - loss: 0.2490 - accuracy: 0.9073\n",
      "Epoch 5/5\n",
      "1875/1875 [==============================] - 116s 62ms/step - loss: 0.2271 - accuracy: 0.9148\n",
      "vgg 0.30000000000000004 0.2238212376832962 0.9165999889373779\n",
      "Epoch 1/5\n",
      "1875/1875 [==============================] - 108s 57ms/step - loss: 0.7043 - accuracy: 0.7395\n",
      "Epoch 2/5\n",
      "1875/1875 [==============================] - 105s 56ms/step - loss: 0.3650 - accuracy: 0.8665\n",
      "Epoch 3/5\n",
      "1875/1875 [==============================] - 107s 57ms/step - loss: 0.3072 - accuracy: 0.8868\n",
      "Epoch 4/5\n",
      "1875/1875 [==============================] - 93s 50ms/step - loss: 0.2773 - accuracy: 0.8955\n",
      "Epoch 5/5\n",
      "1875/1875 [==============================] - 100s 54ms/step - loss: 0.2611 - accuracy: 0.9031\n",
      "vgg 0.4 0.2415637969970703 0.9132999777793884\n",
      "Epoch 1/5\n",
      "1875/1875 [==============================] - 112s 59ms/step - loss: 0.7765 - accuracy: 0.7118\n",
      "Epoch 2/5\n",
      "1875/1875 [==============================] - 121s 65ms/step - loss: 0.3984 - accuracy: 0.8531\n",
      "Epoch 3/5\n",
      "1875/1875 [==============================] - 105s 56ms/step - loss: 0.3328 - accuracy: 0.8787\n",
      "Epoch 4/5\n",
      "1875/1875 [==============================] - 105s 56ms/step - loss: 0.3079 - accuracy: 0.8845\n",
      "Epoch 5/5\n",
      "1875/1875 [==============================] - 89s 47ms/step - loss: 0.2880 - accuracy: 0.8932\n",
      "vgg 0.5 0.24709808826446533 0.9061999917030334\n"
     ]
    }
   ],
   "source": [
    "acc = []\n",
    "ds = []\n",
    "for d in range(0, 6):\n",
    "    dropout = 0.1 * d\n",
    "    ds.append(dropout)\n",
    "    model = vgg_model(dropout)\n",
    "    model.compile(optimizer='adam',\n",
    "                  loss=loss_fn,\n",
    "                  metrics=['accuracy'])\n",
    "    model.fit(x_train, y_train, epochs=5, verbose=0)\n",
    "    error, accuracy = model.evaluate(x_test, y_test, verbose=0)\n",
    "    acc.append(accuracy)\n",
    "    print(\"vgg\", dropout, error, accuracy)\n"
   ]
  },
  {
   "cell_type": "code",
   "execution_count": 83,
   "id": "fossil-respect",
   "metadata": {},
   "outputs": [
    {
     "data": {
      "image/png": "[encoded data removed]",
      "text/plain": [
       "<Figure size 432x288 with 1 Axes>"
      ]
     },
     "metadata": {
      "needs_background": "light"
     },
     "output_type": "display_data"
    }
   ],
   "source": [
    "plt.plot(ds, acc)\n",
    "plt.show()"
   ]
  },
  {
   "cell_type": "code",
   "execution_count": 91,
   "id": "neither-harvard",
   "metadata": {},
   "outputs": [
    {
     "name": "stdout",
     "output_type": "stream",
     "text": [
      "Epoch 1/5\n",
      "1875/1875 [==============================] - 105s 56ms/step - loss: 0.5992 - accuracy: 0.7800\n",
      "Epoch 2/5\n",
      "1875/1875 [==============================] - 133s 71ms/step - loss: 0.2807 - accuracy: 0.8969\n",
      "Epoch 3/5\n",
      "1875/1875 [==============================] - 131s 70ms/step - loss: 0.2274 - accuracy: 0.9166\n",
      "Epoch 4/5\n",
      "1875/1875 [==============================] - 135s 72ms/step - loss: 0.1935 - accuracy: 0.9288\n",
      "Epoch 5/5\n",
      "1875/1875 [==============================] - 106s 57ms/step - loss: 0.1687 - accuracy: 0.9359\n",
      "0.9171000123023987 0.23404531180858612\n"
     ]
    }
   ],
   "source": [
    "# VGG the best\n",
    "model = vgg_model(0.0)\n",
    "model.compile(optimizer='adam',\n",
    "              loss=loss_fn,\n",
    "              metrics=['accuracy'])\n",
    "model.fit(x_train, y_train, epochs=5, verbose=1)\n",
    "error, accuracy = model.evaluate(x_test, y_test, verbose=0)\n",
    "\n",
    "print(accuracy, error)\n",
    "k = 10\n",
    "predicted = model.predict(x_test)\n",
    "result = [0] * len(predicted) # result class\n",
    "sim = np.zeros((k, k)) \n",
    "maxr = np.ones((k, k)) * -1\n",
    "for j in range(len(predicted)):\n",
    "    res = predicted[j] # 10\n",
    "    for i in range(len(res)):\n",
    "        if res[i] > res[result[j]]:\n",
    "            result[j] = i\n",
    "        if maxr[y_test[j], i] < res[i]:\n",
    "            maxr[y_test[j], i] = res[i]\n",
    "            sim[y_test[j], i] = j"
   ]
  },
  {
   "cell_type": "code",
   "execution_count": 92,
   "id": "fifth-keeping",
   "metadata": {},
   "outputs": [
    {
     "name": "stdout",
     "output_type": "stream",
     "text": [
      "CM\n",
      " tf.Tensor(\n",
      "[[846   0  12  13   5   0 108   0  16   0]\n",
      " [  0 986   0   8   1   0   4   0   1   0]\n",
      " [ 11   0 873   7  60   0  43   0   6   0]\n",
      " [  5   5   6 923  36   0  22   0   3   0]\n",
      " [  0   0  41  18 910   0  29   0   2   0]\n",
      " [  0   0   0   0   0 981   0   7   1  11]\n",
      " [ 77   1  39  23 107   0 738   0  15   0]\n",
      " [  0   0   0   0   0   9   0 935   1  55]\n",
      " [  1   1   1   2   3   1   1   0 990   0]\n",
      " [  0   0   0   0   1   3   0   7   0 989]], shape=(10, 10), dtype=int32)\n",
      "[[ 489. 7445. 2953. 3531. 8324. 3466.  381. 5966. 2599. 3342.]\n",
      " [8757.    2. 7533.  787. 5597. 6331. 8757. 6331. 8156. 6331.]\n",
      " [4159. 3880. 7371. 3457. 7976. 3082. 3240. 2382. 7073. 3082.]\n",
      " [ 979. 5012. 2318. 2253. 2898. 6433. 1336. 3265. 6676. 3265.]\n",
      " [1462. 6500. 5255. 4922. 9638. 5511. 2919. 1142.  702. 1142.]\n",
      " [7798.   11. 7279. 5561. 7133.   82. 5561. 8292. 7798. 6061.]\n",
      " [5806. 9991. 2985. 5006. 3338. 5990. 1698. 9306. 3741. 4420.]\n",
      " [3256. 8278. 8278. 3256. 8278. 6472. 8278.  757.   12. 2914.]\n",
      " [1846. 2905.  635. 1778. 9969. 1300. 7817. 2457.   30. 3468.]\n",
      " [5512. 8688. 8688. 1016. 5512.   23. 8688. 5077. 1016.  158.]]\n"
     ]
    }
   ],
   "source": [
    "cm = tf.math.confusion_matrix(y_test, result)\n",
    "np.set_printoptions(suppress=True)\n",
    "print(\"CM\\n\",cm)\n",
    "print(sim)"
   ]
  },
  {
   "cell_type": "code",
   "execution_count": null,
   "id": "sensitive-sewing",
   "metadata": {},
   "outputs": [
    {
     "name": "stdout",
     "output_type": "stream",
     "text": [
      "Epoch 1/5\n",
      " 552/1875 [=======>......................] - ETA: 58s - loss: 0.8581 - accuracy: 0.6863"
     ]
    }
   ],
   "source": [
    "# test on fashion_mnist\n",
    "x_train, y_train, x_test, y_test = read_data('./data/fashion-mnist')\n",
    "model = vgg_model(0.0)\n",
    "model.compile(optimizer='adam',\n",
    "              loss=loss_fn,\n",
    "              metrics=['accuracy'])\n",
    "model.fit(x_train, y_train, epochs=5, verbose=1)\n",
    "error, accuracy = model.evaluate(x_test, y_test, verbose=0)\n",
    "print(\"vgg\", error, accuracy)"
   ]
  },
  {
   "cell_type": "code",
   "execution_count": null,
   "id": "concerned-harmony",
   "metadata": {},
   "outputs": [],
   "source": []
  }
 ],
 "metadata": {
  "kernelspec": {
   "display_name": "Python 3",
   "language": "python",
   "name": "python3"
  },
  "language_info": {
   "codemirror_mode": {
    "name": "ipython",
    "version": 3
   },
   "file_extension": ".py",
   "mimetype": "text/x-python",
   "name": "python",
   "nbconvert_exporter": "python",
   "pygments_lexer": "ipython3",
   "version": "3.8.6"
  }
 },
 "nbformat": 4,
 "nbformat_minor": 5
}
