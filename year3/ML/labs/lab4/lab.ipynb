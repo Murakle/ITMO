{
 "cells": [
  {
   "cell_type": "code",
   "execution_count": null,
   "id": "portable-husband",
   "metadata": {},
   "outputs": [],
   "source": []
  },
  {
   "cell_type": "code",
   "execution_count": 2,
   "id": "introductory-final",
   "metadata": {},
   "outputs": [],
   "source": [
    "def read_data(file, m):\n",
    "    n = int(file.readline().strip())\n",
    "    X = np.zeros((n, m + 1))\n",
    "    y = np.zeros(n)\n",
    "    for i in range(n):\n",
    "        line = list(map(float, file.readline().strip().split()))\n",
    "        for j in range(m):\n",
    "            X[i][j] = line[j]\n",
    "        X[i][m] = 1\n",
    "        y[i] = line[m]\n",
    "    return X, y\n",
    "\n",
    "\n",
    "def read_dataset(file):\n",
    "    m = int(file.readline().strip())\n",
    "    X_train, y_train = read_data(file, m)\n",
    "    X_test, y_test = read_data(file, m)\n",
    "    return X_train, y_train, X_test, y_test\n",
    "\n"
   ]
  },
  {
   "cell_type": "code",
   "execution_count": null,
   "id": "fabulous-guitar",
   "metadata": {},
   "outputs": [],
   "source": []
  },
  {
   "cell_type": "code",
   "execution_count": null,
   "id": "transsexual-welcome",
   "metadata": {},
   "outputs": [],
   "source": []
  },
  {
   "cell_type": "code",
   "execution_count": null,
   "id": "joint-assist",
   "metadata": {},
   "outputs": [],
   "source": []
  },
  {
   "cell_type": "code",
   "execution_count": null,
   "id": "contemporary-condition",
   "metadata": {},
   "outputs": [],
   "source": []
  }
 ],
 "metadata": {
  "kernelspec": {
   "display_name": "Python 3",
   "language": "python",
   "name": "python3"
  },
  "language_info": {
   "codemirror_mode": {
    "name": "ipython",
    "version": 3
   },
   "file_extension": ".py",
   "mimetype": "text/x-python",
   "name": "python",
   "nbconvert_exporter": "python",
   "pygments_lexer": "ipython3",
   "version": "3.9.1"
  }
 },
 "nbformat": 4,
 "nbformat_minor": 5
}
